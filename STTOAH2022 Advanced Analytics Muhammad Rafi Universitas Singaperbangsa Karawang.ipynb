{
  "metadata": {
    "language_info": {
      "codemirror_mode": {
        "name": "python",
        "version": 3
      },
      "file_extension": ".py",
      "mimetype": "text/x-python",
      "name": "python",
      "nbconvert_exporter": "python",
      "pygments_lexer": "ipython3",
      "version": "3.8"
    },
    "kernelspec": {
      "name": "python",
      "display_name": "Pyolite",
      "language": "python"
    }
  },
  "nbformat_minor": 4,
  "nbformat": 4,
  "cells": [
    {
      "cell_type": "code",
      "source": "import pandas",
      "metadata": {
        "trusted": true
      },
      "execution_count": 1,
      "outputs": []
    },
    {
      "cell_type": "code",
      "source": "import pandas as pd",
      "metadata": {
        "trusted": true
      },
      "execution_count": 2,
      "outputs": []
    },
    {
      "cell_type": "code",
      "source": "df = pd.read_csv('Churn_test.csv')",
      "metadata": {
        "trusted": true
      },
      "execution_count": 11,
      "outputs": []
    },
    {
      "cell_type": "code",
      "source": "df",
      "metadata": {
        "trusted": true
      },
      "execution_count": 12,
      "outputs": [
        {
          "execution_count": 12,
          "output_type": "execute_result",
          "data": {
            "text/plain": "      CLIENTNUM  Customer_Age Gender  Dependent_count Education_Level  \\\n0     716470683            48      F                3   Post-Graduate   \n1     720328983            52      F                5         Unknown   \n2     716390958            45      M                4         Unknown   \n3     708741633            52      M                4     High School   \n4     715492983            40      M                3   Post-Graduate   \n...         ...           ...    ...              ...             ...   \n1008  711871758            30      F                1        Graduate   \n1009  780206958            49      M                4        Graduate   \n1010  712222758            38      F                3        Graduate   \n1011  780653208            47      F                3         College   \n1012  778968408            39      M                2       Doctorate   \n\n     Marital_Status Income_Category Card_Category  Months_on_book  \\\n0           Married         Unknown          Blue              36   \n1           Married  Less than $40K          Blue              36   \n2           Married         $120K +          Blue              31   \n3           Married     $60K - $80K          Blue              44   \n4           Married         $120K +          Blue              36   \n...             ...             ...           ...             ...   \n1008        Married  Less than $40K          Blue              36   \n1009        Married     $60K - $80K          Blue              39   \n1010        Married  Less than $40K          Blue              36   \n1011        Married  Less than $40K          Blue              36   \n1012         Single     $60K - $80K          Blue              27   \n\n      Total_Relationship_Count  Months_Inactive_12_mon  Contacts_Count_12_mon  \\\n0                            3                       1                      3   \n1                            4                       3                      3   \n2                            1                       4                      3   \n3                            6                       3                      4   \n4                            4                       2                      4   \n...                        ...                     ...                    ...   \n1008                         2                       2                      3   \n1009                         3                       2                      2   \n1010                         3                       2                      3   \n1011                         5                       4                      2   \n1012                         4                       1                      3   \n\n      Credit_Limit  Total_Revolving_Bal  Avg_Open_To_Buy  \\\n0          20631.0                 2048          18583.0   \n1           9611.0                    0           9611.0   \n2          26107.0                    0          26107.0   \n3           4153.0                    0           4153.0   \n4           7464.0                 2517           4947.0   \n...            ...                  ...              ...   \n1008        2905.0                 2517            388.0   \n1009        5937.0                 2120           3817.0   \n1010        2300.0                    0           2300.0   \n1011        3300.0                 2517            783.0   \n1012        5341.0                    0           5341.0   \n\n      Total_Amt_Chng_Q4_Q1  Total_Trans_Amt  Total_Trans_Ct  \\\n0                    0.676             4827              77   \n1                    0.840             7636              64   \n2                    0.550             1697              47   \n3                    0.434             1771              41   \n4                    0.900             4348              62   \n...                    ...              ...             ...   \n1008                 0.725             2487              39   \n1009                 0.654             4228              70   \n1010                 0.703             2500              47   \n1011                 0.940             3784              55   \n1012                 0.771             1955              47   \n\n      Total_Ct_Chng_Q4_Q1  Avg_Utilization_Ratio  \n0                   0.711                  0.099  \n1                   0.829                  0.000  \n2                   0.424                  0.000  \n3                   0.367                  0.000  \n4                   0.879                  0.337  \n...                   ...                    ...  \n1008                0.393                  0.866  \n1009                0.750                  0.357  \n1010                0.119                  0.000  \n1011                1.115                  0.763  \n1012                0.808                  0.000  \n\n[1013 rows x 20 columns]",
            "text/html": "<div>\n<style scoped>\n    .dataframe tbody tr th:only-of-type {\n        vertical-align: middle;\n    }\n\n    .dataframe tbody tr th {\n        vertical-align: top;\n    }\n\n    .dataframe thead th {\n        text-align: right;\n    }\n</style>\n<table border=\"1\" class=\"dataframe\">\n  <thead>\n    <tr style=\"text-align: right;\">\n      <th></th>\n      <th>CLIENTNUM</th>\n      <th>Customer_Age</th>\n      <th>Gender</th>\n      <th>Dependent_count</th>\n      <th>Education_Level</th>\n      <th>Marital_Status</th>\n      <th>Income_Category</th>\n      <th>Card_Category</th>\n      <th>Months_on_book</th>\n      <th>Total_Relationship_Count</th>\n      <th>Months_Inactive_12_mon</th>\n      <th>Contacts_Count_12_mon</th>\n      <th>Credit_Limit</th>\n      <th>Total_Revolving_Bal</th>\n      <th>Avg_Open_To_Buy</th>\n      <th>Total_Amt_Chng_Q4_Q1</th>\n      <th>Total_Trans_Amt</th>\n      <th>Total_Trans_Ct</th>\n      <th>Total_Ct_Chng_Q4_Q1</th>\n      <th>Avg_Utilization_Ratio</th>\n    </tr>\n  </thead>\n  <tbody>\n    <tr>\n      <th>0</th>\n      <td>716470683</td>\n      <td>48</td>\n      <td>F</td>\n      <td>3</td>\n      <td>Post-Graduate</td>\n      <td>Married</td>\n      <td>Unknown</td>\n      <td>Blue</td>\n      <td>36</td>\n      <td>3</td>\n      <td>1</td>\n      <td>3</td>\n      <td>20631.0</td>\n      <td>2048</td>\n      <td>18583.0</td>\n      <td>0.676</td>\n      <td>4827</td>\n      <td>77</td>\n      <td>0.711</td>\n      <td>0.099</td>\n    </tr>\n    <tr>\n      <th>1</th>\n      <td>720328983</td>\n      <td>52</td>\n      <td>F</td>\n      <td>5</td>\n      <td>Unknown</td>\n      <td>Married</td>\n      <td>Less than $40K</td>\n      <td>Blue</td>\n      <td>36</td>\n      <td>4</td>\n      <td>3</td>\n      <td>3</td>\n      <td>9611.0</td>\n      <td>0</td>\n      <td>9611.0</td>\n      <td>0.840</td>\n      <td>7636</td>\n      <td>64</td>\n      <td>0.829</td>\n      <td>0.000</td>\n    </tr>\n    <tr>\n      <th>2</th>\n      <td>716390958</td>\n      <td>45</td>\n      <td>M</td>\n      <td>4</td>\n      <td>Unknown</td>\n      <td>Married</td>\n      <td>$120K +</td>\n      <td>Blue</td>\n      <td>31</td>\n      <td>1</td>\n      <td>4</td>\n      <td>3</td>\n      <td>26107.0</td>\n      <td>0</td>\n      <td>26107.0</td>\n      <td>0.550</td>\n      <td>1697</td>\n      <td>47</td>\n      <td>0.424</td>\n      <td>0.000</td>\n    </tr>\n    <tr>\n      <th>3</th>\n      <td>708741633</td>\n      <td>52</td>\n      <td>M</td>\n      <td>4</td>\n      <td>High School</td>\n      <td>Married</td>\n      <td>$60K - $80K</td>\n      <td>Blue</td>\n      <td>44</td>\n      <td>6</td>\n      <td>3</td>\n      <td>4</td>\n      <td>4153.0</td>\n      <td>0</td>\n      <td>4153.0</td>\n      <td>0.434</td>\n      <td>1771</td>\n      <td>41</td>\n      <td>0.367</td>\n      <td>0.000</td>\n    </tr>\n    <tr>\n      <th>4</th>\n      <td>715492983</td>\n      <td>40</td>\n      <td>M</td>\n      <td>3</td>\n      <td>Post-Graduate</td>\n      <td>Married</td>\n      <td>$120K +</td>\n      <td>Blue</td>\n      <td>36</td>\n      <td>4</td>\n      <td>2</td>\n      <td>4</td>\n      <td>7464.0</td>\n      <td>2517</td>\n      <td>4947.0</td>\n      <td>0.900</td>\n      <td>4348</td>\n      <td>62</td>\n      <td>0.879</td>\n      <td>0.337</td>\n    </tr>\n    <tr>\n      <th>...</th>\n      <td>...</td>\n      <td>...</td>\n      <td>...</td>\n      <td>...</td>\n      <td>...</td>\n      <td>...</td>\n      <td>...</td>\n      <td>...</td>\n      <td>...</td>\n      <td>...</td>\n      <td>...</td>\n      <td>...</td>\n      <td>...</td>\n      <td>...</td>\n      <td>...</td>\n      <td>...</td>\n      <td>...</td>\n      <td>...</td>\n      <td>...</td>\n      <td>...</td>\n    </tr>\n    <tr>\n      <th>1008</th>\n      <td>711871758</td>\n      <td>30</td>\n      <td>F</td>\n      <td>1</td>\n      <td>Graduate</td>\n      <td>Married</td>\n      <td>Less than $40K</td>\n      <td>Blue</td>\n      <td>36</td>\n      <td>2</td>\n      <td>2</td>\n      <td>3</td>\n      <td>2905.0</td>\n      <td>2517</td>\n      <td>388.0</td>\n      <td>0.725</td>\n      <td>2487</td>\n      <td>39</td>\n      <td>0.393</td>\n      <td>0.866</td>\n    </tr>\n    <tr>\n      <th>1009</th>\n      <td>780206958</td>\n      <td>49</td>\n      <td>M</td>\n      <td>4</td>\n      <td>Graduate</td>\n      <td>Married</td>\n      <td>$60K - $80K</td>\n      <td>Blue</td>\n      <td>39</td>\n      <td>3</td>\n      <td>2</td>\n      <td>2</td>\n      <td>5937.0</td>\n      <td>2120</td>\n      <td>3817.0</td>\n      <td>0.654</td>\n      <td>4228</td>\n      <td>70</td>\n      <td>0.750</td>\n      <td>0.357</td>\n    </tr>\n    <tr>\n      <th>1010</th>\n      <td>712222758</td>\n      <td>38</td>\n      <td>F</td>\n      <td>3</td>\n      <td>Graduate</td>\n      <td>Married</td>\n      <td>Less than $40K</td>\n      <td>Blue</td>\n      <td>36</td>\n      <td>3</td>\n      <td>2</td>\n      <td>3</td>\n      <td>2300.0</td>\n      <td>0</td>\n      <td>2300.0</td>\n      <td>0.703</td>\n      <td>2500</td>\n      <td>47</td>\n      <td>0.119</td>\n      <td>0.000</td>\n    </tr>\n    <tr>\n      <th>1011</th>\n      <td>780653208</td>\n      <td>47</td>\n      <td>F</td>\n      <td>3</td>\n      <td>College</td>\n      <td>Married</td>\n      <td>Less than $40K</td>\n      <td>Blue</td>\n      <td>36</td>\n      <td>5</td>\n      <td>4</td>\n      <td>2</td>\n      <td>3300.0</td>\n      <td>2517</td>\n      <td>783.0</td>\n      <td>0.940</td>\n      <td>3784</td>\n      <td>55</td>\n      <td>1.115</td>\n      <td>0.763</td>\n    </tr>\n    <tr>\n      <th>1012</th>\n      <td>778968408</td>\n      <td>39</td>\n      <td>M</td>\n      <td>2</td>\n      <td>Doctorate</td>\n      <td>Single</td>\n      <td>$60K - $80K</td>\n      <td>Blue</td>\n      <td>27</td>\n      <td>4</td>\n      <td>1</td>\n      <td>3</td>\n      <td>5341.0</td>\n      <td>0</td>\n      <td>5341.0</td>\n      <td>0.771</td>\n      <td>1955</td>\n      <td>47</td>\n      <td>0.808</td>\n      <td>0.000</td>\n    </tr>\n  </tbody>\n</table>\n<p>1013 rows × 20 columns</p>\n</div>"
          },
          "metadata": {}
        }
      ]
    },
    {
      "cell_type": "code",
      "source": "df.isnull().sum()",
      "metadata": {
        "trusted": true
      },
      "execution_count": 13,
      "outputs": [
        {
          "execution_count": 13,
          "output_type": "execute_result",
          "data": {
            "text/plain": "CLIENTNUM                   0\nCustomer_Age                0\nGender                      0\nDependent_count             0\nEducation_Level             0\nMarital_Status              0\nIncome_Category             0\nCard_Category               0\nMonths_on_book              0\nTotal_Relationship_Count    0\nMonths_Inactive_12_mon      0\nContacts_Count_12_mon       0\nCredit_Limit                0\nTotal_Revolving_Bal         0\nAvg_Open_To_Buy             0\nTotal_Amt_Chng_Q4_Q1        0\nTotal_Trans_Amt             0\nTotal_Trans_Ct              0\nTotal_Ct_Chng_Q4_Q1         0\nAvg_Utilization_Ratio       0\ndtype: int64"
          },
          "metadata": {}
        }
      ]
    },
    {
      "cell_type": "code",
      "source": "",
      "metadata": {},
      "execution_count": null,
      "outputs": []
    }
  ]
}